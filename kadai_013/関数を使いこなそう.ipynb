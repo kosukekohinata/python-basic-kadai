{
  "nbformat": 4,
  "nbformat_minor": 0,
  "metadata": {
    "colab": {
      "provenance": []
    },
    "kernelspec": {
      "name": "python3",
      "display_name": "Python 3"
    },
    "language_info": {
      "name": "python"
    }
  },
  "cells": [
    {
      "cell_type": "code",
      "execution_count": 1,
      "metadata": {
        "colab": {
          "base_uri": "https://localhost:8080/"
        },
        "id": "w87zL3mpvE5e",
        "outputId": "33d32499-3c3a-45f9-86a1-ad46ce9867a8"
      },
      "outputs": [
        {
          "output_type": "stream",
          "name": "stdout",
          "text": [
            "商品の税抜き価格: 110円\n",
            "消費税率: 10%\n",
            "消費税込みの価格: 121.0円\n"
          ]
        }
      ],
      "source": [
        "def calculate_price_with_tax(price, tax_rate_percent):\n",
        "\n",
        "    tax_amount = price * (tax_rate_percent / 100)\n",
        "    total_price = price + tax_amount\n",
        "    return total_price\n",
        "\n",
        "# 関数を呼び出して結果を表示\n",
        "item_price = 110\n",
        "consumption_tax_rate = 10\n",
        "\n",
        "# 消費税込みの価格を計算\n",
        "final_price = calculate_price_with_tax(item_price, consumption_tax_rate)\n",
        "\n",
        "# 結果の出力\n",
        "print(f\"商品の税抜き価格: {item_price}円\")\n",
        "print(f\"消費税率: {consumption_tax_rate}%\")\n",
        "print(f\"消費税込みの価格: {final_price}円\")"
      ]
    }
  ]
}