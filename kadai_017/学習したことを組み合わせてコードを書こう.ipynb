{
  "nbformat": 4,
  "nbformat_minor": 0,
  "metadata": {
    "colab": {
      "provenance": []
    },
    "kernelspec": {
      "name": "python3",
      "display_name": "Python 3"
    },
    "language_info": {
      "name": "python"
    }
  },
  "cells": [
    {
      "cell_type": "code",
      "execution_count": 3,
      "metadata": {
        "colab": {
          "base_uri": "https://localhost:8080/"
        },
        "id": "HRS6Ff32P5mj",
        "outputId": "906a1bd6-e0a8-44ed-c64a-5e2837783f06"
      },
      "outputs": [
        {
          "output_type": "stream",
          "name": "stdout",
          "text": [
            "鈴木彩艶は大人です。\n",
            "藤田譲瑠チーマは大人です。\n",
            "細谷真大は大人です。\n",
            "半田陸は大人です。\n",
            "木村誠二は大人です。\n",
            "松木玖生は大人です。\n",
            "佐藤恵允は大人です。\n",
            "内野貴史は大人です。\n",
            "小田裕太郎は大人です。\n",
            "平川怜は大人です。\n",
            "谷口栄斗は大人ではありません。\n",
            "川村拓夢は大人ではありません。\n",
            "高橋悠真は大人ではありません。\n"
          ]
        }
      ],
      "source": [
        "class Human:\n",
        "    def __init__(self, name, age):\n",
        "        self.name = name\n",
        "        self.age = age\n",
        "\n",
        "    def check_adult(self):\n",
        "        if self.age >= 20:\n",
        "            print(f\"{self.name}は大人です。\")\n",
        "        else:\n",
        "            print(f\"{self.name}は大人ではありません。\")\n",
        "\n",
        "# Humanクラスのインスタンスを生成し、リストに追加\n",
        "# 2025年 U-23サッカー日本代表の想定メンバーとその仮定の年齢\n",
        "humans = [\n",
        "    Human(\"鈴木彩艶\", 22),   # 2002年生まれの場合、2025年には22歳\n",
        "    Human(\"藤田譲瑠チーマ\", 23), # 2002年生まれの場合、2025年には23歳\n",
        "    Human(\"細谷真大\", 23),   # 2001年生まれの場合、2025年には23歳\n",
        "    Human(\"半田陸\", 23),     # 2002年生まれの場合、2025年には23歳\n",
        "    Human(\"木村誠二\", 24),   # 2001年生まれの場合、2025年には24歳\n",
        "    Human(\"松木玖生\", 22),   # 2003年生まれの場合、2025年には22歳\n",
        "    Human(\"佐藤恵允\", 23),   # 2001年生まれの場合、2025年には23歳\n",
        "    Human(\"内野貴史\", 24),   # 2001年生まれの場合、2025年には24歳\n",
        "    Human(\"小田裕太郎\", 24), # 2001年生まれの場合、2025年には24歳\n",
        "    Human(\"平川怜\", 25),     # 2000年生まれの場合、2025年には25歳\n",
        "\n",
        "    # 10代の選手を追加 (架空の年齢設定)\n",
        "    Human(\"谷口栄斗\", 19),   # 仮の若手選手（10代）\n",
        "    Human(\"川村拓夢\", 18),   # 仮の若手選手（10代）\n",
        "    Human(\"高橋悠真\", 17)    # 仮の若手選手（10代）\n",
        "]\n",
        "\n",
        "# リストの要素数分だけcheck_adultメソッドを呼び出す\n",
        "for human in humans:\n",
        "    human.check_adult()"
      ]
    }
  ]
}