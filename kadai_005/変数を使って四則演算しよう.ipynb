{
  "nbformat": 4,
  "nbformat_minor": 0,
  "metadata": {
    "colab": {
      "provenance": []
    },
    "kernelspec": {
      "name": "python3",
      "display_name": "Python 3"
    },
    "language_info": {
      "name": "python"
    }
  },
  "cells": [
    {
      "cell_type": "code",
      "execution_count": null,
      "metadata": {
        "id": "94Em-36BeFWu"
      },
      "outputs": [],
      "source": [
        "上辺：10cm\n",
        "下辺：20cm\n",
        "高さ：5cm\n",
        "\n",
        "公式：台形の面積 =（上辺＋下辺）× 高さ ÷ 2"
      ]
    },
    {
      "cell_type": "code",
      "source": [
        "# 台形の各辺と高さを定義します\n",
        "upper_base = 10  # 上辺\n",
        "lower_base = 20  # 下辺\n",
        "height = 5       # 高さ\n",
        "\n",
        "# 台形の面積を計算し、変数に代入します\n",
        "area = (upper_base + lower_base) * height / 2\n",
        "\n",
        "# 計算結果を単位付きで出力します\n",
        "print(str(area) + \"cm²\")"
      ],
      "metadata": {
        "colab": {
          "base_uri": "https://localhost:8080/"
        },
        "id": "NH5kbxkl4os1",
        "outputId": "e7a0f8ba-bcbf-4f98-93cb-e91c899e860a"
      },
      "execution_count": 3,
      "outputs": [
        {
          "output_type": "stream",
          "name": "stdout",
          "text": [
            "75.0cm²\n"
          ]
        }
      ]
    }
  ]
}