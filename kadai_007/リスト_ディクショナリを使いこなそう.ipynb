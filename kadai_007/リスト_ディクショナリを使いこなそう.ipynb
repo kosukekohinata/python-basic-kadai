{
  "nbformat": 4,
  "nbformat_minor": 0,
  "metadata": {
    "colab": {
      "provenance": []
    },
    "kernelspec": {
      "name": "python3",
      "display_name": "Python 3"
    },
    "language_info": {
      "name": "python"
    }
  },
  "cells": [
    {
      "cell_type": "code",
      "execution_count": 3,
      "metadata": {
        "colab": {
          "base_uri": "https://localhost:8080/"
        },
        "id": "_kGohTUs96Q9",
        "outputId": "d47cb6f0-3630-41e5-bfa1-66c84a83ee51"
      },
      "outputs": [
        {
          "output_type": "stream",
          "name": "stdout",
          "text": [
            "水曜日は晴れです\n",
            "['月曜日は晴れです', '火曜日は雨です', '水曜日は晴れです', '木曜日は晴れです', '金曜日は曇りです', '土曜日は曇りのち雨です', '日曜日は雷雨です']\n"
          ]
        }
      ],
      "source": [
        "#リスト：array\n",
        "array = [\"月曜日は晴れです\",\"火曜日は雨です\",\"水曜日は晴れです\",\"木曜日は晴れです\",\"金曜日は曇りです\",\"土曜日は曇りのち雨です\",\"日曜日は雷雨です\"]\n",
        "print(array[2])\n",
        "print(array)"
      ]
    },
    {
      "cell_type": "code",
      "source": [
        "#ディクショナリ\n",
        "dictionary = {\"mon\": \"晴れ\",\"tue\": \"晴れ\",\"wed\": \"晴れ\",\"thu\": \"晴れ\",\"fri\": \"晴れ\",\"sat\": \"晴れ\",\"sun\": \"晴れ\",\"mon\": \"晴れ\",}\n",
        "print(dictionary[\"mon\"])\n",
        "print(dictionary)"
      ],
      "metadata": {
        "colab": {
          "base_uri": "https://localhost:8080/"
        },
        "id": "LVJuvov7HE_f",
        "outputId": "346c9fe8-748c-43e2-aaa8-a9e793e18cc0"
      },
      "execution_count": 2,
      "outputs": [
        {
          "output_type": "stream",
          "name": "stdout",
          "text": [
            "晴れ\n",
            "{'mon': '晴れ', 'tue': '晴れ', 'wed': '晴れ', 'thu': '晴れ', 'fri': '晴れ', 'sat': '晴れ', 'sun': '晴れ'}\n"
          ]
        }
      ]
    }
  ]
}